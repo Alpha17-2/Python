{
 "cells": [
  {
   "cell_type": "code",
   "execution_count": 2,
   "metadata": {},
   "outputs": [
    {
     "name": "stdout",
     "output_type": "stream",
     "text": [
      "Elements that are divisible by 3 are [3, 9, 12, 15]\n",
      "Elements that are not divisible by 3 are [1, 8, 5, 7, 10, 10, 7, 8, 1, 4]\n",
      "Squares of even numbers [64, 100, 144, 100, 64, 16]\n",
      "Sum of digits of all even numbers is 25\n",
      "Original list with duplicates [1, 3, 8, 5, 7, 10, 9, 12, 15, 10, 7, 8, 1, 4]\n",
      "List after removing duplicates [1, 3, 8, 5, 7, 10, 9, 12, 15, 4]\n"
     ]
    }
   ],
   "source": [
    "# 1 \n",
    "\n",
    "priceList = [1,3,8,5,7,10,9,12,15,10,7,8,1,4]\n",
    "\n",
    "divisibleBy3 = [x for x in priceList if x % 3 == 0]\n",
    "\n",
    "print(\"Elements that are divisible by 3 are\",divisibleBy3)\n",
    "\n",
    "notDivisibleBy3 = [x for x in priceList if x % 3 != 0]\n",
    "\n",
    "print(\"Elements that are not divisible by 3 are\",notDivisibleBy3)\n",
    "\n",
    "squaresOfEvenNums = [x**2 for x in priceList if x % 2 == 0]\n",
    "\n",
    "print(\"Squares of even numbers\",squaresOfEvenNums)\n",
    "\n",
    "evenNums = [x for x in priceList if x % 2 == 0]\n",
    "\n",
    "sumOfDigitsOfEvenNums = 0\n",
    "\n",
    "# finding sum of all digits of even numbers\n",
    "for i in evenNums:\n",
    "    temp = i\n",
    "    while(temp>0):\n",
    "        rem = temp % 10\n",
    "        sumOfDigitsOfEvenNums = sumOfDigitsOfEvenNums + rem\n",
    "        temp = temp//10\n",
    "\n",
    "print(\"Sum of digits of all even numbers is\",sumOfDigitsOfEvenNums)\n",
    "\n",
    "print(\"Original list with duplicates\",priceList)\n",
    "\n",
    "filteredList = []\n",
    "\n",
    "for i in priceList:\n",
    "    if(filteredList.count(i)==0):\n",
    "        filteredList.append(i)\n",
    "\n",
    "print(\"List after removing duplicates\",filteredList)\n",
    "\n",
    "\n",
    "\n"
   ]
  },
  {
   "cell_type": "code",
   "execution_count": 3,
   "metadata": {},
   "outputs": [
    {
     "name": "stdout",
     "output_type": "stream",
     "text": [
      "235478\n"
     ]
    }
   ],
   "source": [
    "# 2\n",
    "\n",
    "\n",
    "# function to return apartment details\n",
    "def getApartmentDetail(apartmentQuery):\n",
    "    if(apartmentPrices.__contains__(apartmentQuery)):\n",
    "        return apartmentPrices[apartmentQuery]\n",
    "    else:\n",
    "        return \"No such apartment found\"    \n",
    "\n",
    "apartmentPrices = {\"KP Society\":57897,\"R Mangal Society\":12345,\"Meena Niwas\":102345,\"JP Tower\":58749,\"Meghraj Tower\":235478,\"New Raj Apartment\":58749}\n",
    "\n",
    "apartQuery =  input(\"Enter your apartment query\")\n",
    "\n",
    "print(getApartmentDetail(apartQuery))\n",
    "\n",
    "\n",
    "\n"
   ]
  }
 ],
 "metadata": {
  "kernelspec": {
   "display_name": "base",
   "language": "python",
   "name": "python3"
  },
  "language_info": {
   "codemirror_mode": {
    "name": "ipython",
    "version": 3
   },
   "file_extension": ".py",
   "mimetype": "text/x-python",
   "name": "python",
   "nbconvert_exporter": "python",
   "pygments_lexer": "ipython3",
   "version": "3.11.3"
  },
  "orig_nbformat": 4
 },
 "nbformat": 4,
 "nbformat_minor": 2
}
